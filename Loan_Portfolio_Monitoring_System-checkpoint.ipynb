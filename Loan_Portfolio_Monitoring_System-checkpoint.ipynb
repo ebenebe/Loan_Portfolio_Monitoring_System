{
 "cells": [
  {
   "cell_type": "code",
   "execution_count": 357,
   "metadata": {},
   "outputs": [],
   "source": [
    "import pandas as pd\n",
    "import numpy as np\n",
    "from openpyxl import Workbook\n",
    "from openpyxl.utils.dataframe import dataframe_to_rows"
   ]
  },
  {
   "cell_type": "code",
   "execution_count": 358,
   "metadata": {},
   "outputs": [],
   "source": [
    "# Import the three excel files to Dataframe\n",
    "portfolio = pd.read_excel('C:/Users/STELLAS MFB IT/Desktop/Acct.OfficerCollection/Raw files/sample/Portfolio_At_Risk_Report-10.xlsx')\n",
    "expected = pd.read_excel('C:/Users/STELLAS MFB IT/Desktop/Acct.OfficerCollection/Raw files/sample/Expected_Report-10.xlsx')\n",
    "monitoring = pd.read_excel('C:/Users/STELLAS MFB IT/Desktop/Acct.OfficerCollection/Raw files/sample/Savings_Deposit_Monitoring_Report-10.xlsx')\n",
    "#portfolio = pd.read_excel('C:/Users/STELLAS MFB IT/Desktop/Acct.OfficerCollection/Raw files/Portfolio_At_Risk_Report-2.xlsx')\n",
    "#expected = pd.read_excel('C:/Users/STELLAS MFB IT/Desktop/Acct.OfficerCollection/Raw files/Expected_Report-2.xlsx')\n",
    "#monitoring = pd.read_excel('C:/Users/STELLAS MFB IT/Desktop/Acct.OfficerCollection/Raw files/Savings_Deposit_Monitoring_Report-2.xlsx')\n"
   ]
  },
  {
   "cell_type": "code",
   "execution_count": 359,
   "metadata": {},
   "outputs": [],
   "source": [
    "# Filter the dataset to remove the columns that are not needed in the analysis\n",
    "portfolio_1 = portfolio[['S/N.','Customer Name','Phone No.','Loan Amount','Principal Bal.','Customer Account Bal.','Disbursement Date','Maturation Date','Product','Linked Account No.','Credit Officer','Total Outst. Prin.','Past Due Prin.','Loan Arrears','Status','Days OverDue','Account No.']]\n",
    "expected_1 = expected[['Account Name','Payment Amount','Due Date','Account No.']]\n",
    "monitoring_1 = monitoring[['Account Name','Account No.','NUBAN','Lodgements']]"
   ]
  },
  {
   "cell_type": "code",
   "execution_count": 360,
   "metadata": {},
   "outputs": [],
   "source": [
    "# workbook = Workbook()\n",
    "# sheet = workbook.active\n",
    "\n",
    "# sheet[\"A1\"] = \"hello\"\n",
    "# sheet[\"B1\"] = \"world!\"\n",
    "\n",
    "# workbook.save(filename=\"hello_world.xlsx\")"
   ]
  },
  {
   "cell_type": "code",
   "execution_count": 361,
   "metadata": {},
   "outputs": [
    {
     "data": {
      "text/html": [
       "<div>\n",
       "<style scoped>\n",
       "    .dataframe tbody tr th:only-of-type {\n",
       "        vertical-align: middle;\n",
       "    }\n",
       "\n",
       "    .dataframe tbody tr th {\n",
       "        vertical-align: top;\n",
       "    }\n",
       "\n",
       "    .dataframe thead th {\n",
       "        text-align: right;\n",
       "    }\n",
       "</style>\n",
       "<table border=\"1\" class=\"dataframe\">\n",
       "  <thead>\n",
       "    <tr style=\"text-align: right;\">\n",
       "      <th></th>\n",
       "      <th>Account No.</th>\n",
       "      <th>Payment Amount</th>\n",
       "      <th>Due Date</th>\n",
       "    </tr>\n",
       "  </thead>\n",
       "  <tbody>\n",
       "    <tr>\n",
       "      <td>0</td>\n",
       "      <td>4230014100000832</td>\n",
       "      <td>5260.00</td>\n",
       "      <td>17-Sep-2020</td>\n",
       "    </tr>\n",
       "    <tr>\n",
       "      <td>1</td>\n",
       "      <td>4230014400000725</td>\n",
       "      <td>87903.34</td>\n",
       "      <td>09-Sep-2020</td>\n",
       "    </tr>\n",
       "  </tbody>\n",
       "</table>\n",
       "</div>"
      ],
      "text/plain": [
       "        Account No.  Payment Amount     Due Date\n",
       "0  4230014100000832         5260.00  17-Sep-2020\n",
       "1  4230014400000725        87903.34  09-Sep-2020"
      ]
     },
     "execution_count": 361,
     "metadata": {},
     "output_type": "execute_result"
    }
   ],
   "source": [
    "# Select the two colums to merge from expected Dataframe\n",
    "#expected_1 = expected[['Linked Account No.','Payment Amount','Due Date']]\n",
    "expected_2 = expected_1[['Account No.','Payment Amount','Due Date']]\n",
    "#Print two rows of the result\n",
    "expected_2.head(2)"
   ]
  },
  {
   "cell_type": "code",
   "execution_count": 362,
   "metadata": {},
   "outputs": [],
   "source": [
    "# merge the expected_1 Dataframe to Portfolio Dataframe and assign them to New_portfolio\n",
    "new_portfolio = pd.merge(left = portfolio_1, right = expected_2,how ='left', on ='Account No.')\n",
    "\n",
    "#new_portfolio.to_excel('C:/Users/STELLAS MFB IT/Desktop/Acct.OfficerCollection/Raw files/sample/opn_excel3.xlsx')"
   ]
  },
  {
   "cell_type": "code",
   "execution_count": 363,
   "metadata": {},
   "outputs": [],
   "source": [
    "# Select the two colums to merge from monitoring Dataframe and change column 'Account No.' to 'Linked Account No'\n",
    "monitoring_1.rename(columns={'Account No.':'Linked Account No.'}, inplace = True)\n",
    "monitoring_2 = monitoring_1[['Linked Account No.','NUBAN','Lodgements']]\n"
   ]
  },
  {
   "cell_type": "code",
   "execution_count": 364,
   "metadata": {},
   "outputs": [],
   "source": [
    "#merge the  selected column in  monitoring_1 to new_portfolio\n",
    "new_portfolio = pd.merge(left = new_portfolio, right = monitoring_2,how = 'left',  on ='Linked Account No.')"
   ]
  },
  {
   "cell_type": "code",
   "execution_count": 365,
   "metadata": {},
   "outputs": [
    {
     "data": {
      "text/html": [
       "<div>\n",
       "<style scoped>\n",
       "    .dataframe tbody tr th:only-of-type {\n",
       "        vertical-align: middle;\n",
       "    }\n",
       "\n",
       "    .dataframe tbody tr th {\n",
       "        vertical-align: top;\n",
       "    }\n",
       "\n",
       "    .dataframe thead th {\n",
       "        text-align: right;\n",
       "    }\n",
       "</style>\n",
       "<table border=\"1\" class=\"dataframe\">\n",
       "  <thead>\n",
       "    <tr style=\"text-align: right;\">\n",
       "      <th></th>\n",
       "      <th>S/N.</th>\n",
       "      <th>Customer Name</th>\n",
       "      <th>Phone No.</th>\n",
       "      <th>Loan Amount</th>\n",
       "      <th>Principal Bal.</th>\n",
       "      <th>Customer Account Bal.</th>\n",
       "      <th>Disbursement Date</th>\n",
       "      <th>Maturation Date</th>\n",
       "      <th>Product</th>\n",
       "      <th>Linked Account No.</th>\n",
       "      <th>...</th>\n",
       "      <th>Total Outst. Prin.</th>\n",
       "      <th>Past Due Prin.</th>\n",
       "      <th>Loan Arrears</th>\n",
       "      <th>Status</th>\n",
       "      <th>Days OverDue</th>\n",
       "      <th>Account No.</th>\n",
       "      <th>Payment Amount</th>\n",
       "      <th>Due Date</th>\n",
       "      <th>NUBAN</th>\n",
       "      <th>Lodgements</th>\n",
       "    </tr>\n",
       "  </thead>\n",
       "  <tbody>\n",
       "    <tr>\n",
       "      <td>0</td>\n",
       "      <td>1</td>\n",
       "      <td>EHINMOSAN, OMODARA STEPHEN</td>\n",
       "      <td>8.131984e+09</td>\n",
       "      <td>50000</td>\n",
       "      <td>50000.0</td>\n",
       "      <td>3478.21</td>\n",
       "      <td>05-Aug-2020</td>\n",
       "      <td>24-Sep-2020</td>\n",
       "      <td>LOAN- DOMESTIC PAY DAY (STAFF)</td>\n",
       "      <td>4230011200001035</td>\n",
       "      <td>...</td>\n",
       "      <td>50000.0</td>\n",
       "      <td>0.0</td>\n",
       "      <td>0.0</td>\n",
       "      <td>Performing</td>\n",
       "      <td>0</td>\n",
       "      <td>4230014201001035</td>\n",
       "      <td>51500.0</td>\n",
       "      <td>24-Sep-2020</td>\n",
       "      <td>1.100010e+09</td>\n",
       "      <td>0.0</td>\n",
       "    </tr>\n",
       "    <tr>\n",
       "      <td>1</td>\n",
       "      <td>2</td>\n",
       "      <td>GAFAR, SIKIRU ALAO</td>\n",
       "      <td>7.025270e+09</td>\n",
       "      <td>1077883</td>\n",
       "      <td>1171583.0</td>\n",
       "      <td>60646.57</td>\n",
       "      <td>05-Aug-2020</td>\n",
       "      <td>15-Jun-2021</td>\n",
       "      <td>LOAN- HIRE PURCHASE</td>\n",
       "      <td>4230011100005288</td>\n",
       "      <td>...</td>\n",
       "      <td>1171583.0</td>\n",
       "      <td>0.0</td>\n",
       "      <td>0.0</td>\n",
       "      <td>Performing</td>\n",
       "      <td>0</td>\n",
       "      <td>4230014400005288</td>\n",
       "      <td>117158.3</td>\n",
       "      <td>18-Sep-2020</td>\n",
       "      <td>NaN</td>\n",
       "      <td>NaN</td>\n",
       "    </tr>\n",
       "    <tr>\n",
       "      <td>2</td>\n",
       "      <td>3</td>\n",
       "      <td>AROGBONLO, DEBORAH OMOTAYO</td>\n",
       "      <td>8.033242e+09</td>\n",
       "      <td>2000000</td>\n",
       "      <td>2000000.0</td>\n",
       "      <td>946.57</td>\n",
       "      <td>05-Aug-2020</td>\n",
       "      <td>23-Jun-2021</td>\n",
       "      <td>LOAN- DOMESTIC PAY DAY (STAFF)</td>\n",
       "      <td>4230011100004604</td>\n",
       "      <td>...</td>\n",
       "      <td>2000000.0</td>\n",
       "      <td>0.0</td>\n",
       "      <td>0.0</td>\n",
       "      <td>Performing</td>\n",
       "      <td>0</td>\n",
       "      <td>4230014200004604</td>\n",
       "      <td>260000.0</td>\n",
       "      <td>26-Sep-2020</td>\n",
       "      <td>NaN</td>\n",
       "      <td>NaN</td>\n",
       "    </tr>\n",
       "  </tbody>\n",
       "</table>\n",
       "<p>3 rows × 21 columns</p>\n",
       "</div>"
      ],
      "text/plain": [
       "   S/N.               Customer Name     Phone No.  Loan Amount  \\\n",
       "0     1  EHINMOSAN, OMODARA STEPHEN  8.131984e+09        50000   \n",
       "1     2          GAFAR, SIKIRU ALAO  7.025270e+09      1077883   \n",
       "2     3  AROGBONLO, DEBORAH OMOTAYO  8.033242e+09      2000000   \n",
       "\n",
       "   Principal Bal.  Customer Account Bal. Disbursement Date Maturation Date  \\\n",
       "0         50000.0                3478.21       05-Aug-2020     24-Sep-2020   \n",
       "1       1171583.0               60646.57       05-Aug-2020     15-Jun-2021   \n",
       "2       2000000.0                 946.57       05-Aug-2020     23-Jun-2021   \n",
       "\n",
       "                          Product  Linked Account No.  ... Total Outst. Prin.  \\\n",
       "0  LOAN- DOMESTIC PAY DAY (STAFF)    4230011200001035  ...            50000.0   \n",
       "1             LOAN- HIRE PURCHASE    4230011100005288  ...          1171583.0   \n",
       "2  LOAN- DOMESTIC PAY DAY (STAFF)    4230011100004604  ...          2000000.0   \n",
       "\n",
       "   Past Due Prin.  Loan Arrears      Status Days OverDue       Account No.  \\\n",
       "0             0.0           0.0  Performing            0  4230014201001035   \n",
       "1             0.0           0.0  Performing            0  4230014400005288   \n",
       "2             0.0           0.0  Performing            0  4230014200004604   \n",
       "\n",
       "   Payment Amount     Due Date         NUBAN  Lodgements  \n",
       "0         51500.0  24-Sep-2020  1.100010e+09         0.0  \n",
       "1        117158.3  18-Sep-2020           NaN         NaN  \n",
       "2        260000.0  26-Sep-2020           NaN         NaN  \n",
       "\n",
       "[3 rows x 21 columns]"
      ]
     },
     "execution_count": 365,
     "metadata": {},
     "output_type": "execute_result"
    }
   ],
   "source": [
    "#display first three rows\n",
    "new_portfolio.head(3)"
   ]
  },
  {
   "cell_type": "code",
   "execution_count": 366,
   "metadata": {},
   "outputs": [],
   "source": [
    "# Rename some of the columns\n",
    "new_portfolio.rename(columns={'Payment Amount':'Expected Payment Amount'}, inplace = True)\n",
    "new_portfolio.rename(columns={'Due Date':'Expected Due Date'}, inplace = True)\n",
    "new_portfolio.rename(columns={'Lodgements':'Lodgments month -Date'}, inplace = True)\n",
    "\n",
    "\n",
    "\n"
   ]
  },
  {
   "cell_type": "code",
   "execution_count": 367,
   "metadata": {},
   "outputs": [],
   "source": [
    "# Add to new empty colums\n",
    "new_portfolio['Loan Collection Amount'] = \" \"\n",
    "new_portfolio['Savings Amount'] = \" \""
   ]
  },
  {
   "cell_type": "code",
   "execution_count": 368,
   "metadata": {},
   "outputs": [
    {
     "data": {
      "text/html": [
       "<div>\n",
       "<style scoped>\n",
       "    .dataframe tbody tr th:only-of-type {\n",
       "        vertical-align: middle;\n",
       "    }\n",
       "\n",
       "    .dataframe tbody tr th {\n",
       "        vertical-align: top;\n",
       "    }\n",
       "\n",
       "    .dataframe thead th {\n",
       "        text-align: right;\n",
       "    }\n",
       "</style>\n",
       "<table border=\"1\" class=\"dataframe\">\n",
       "  <thead>\n",
       "    <tr style=\"text-align: right;\">\n",
       "      <th></th>\n",
       "      <th>S/N.</th>\n",
       "      <th>Customer Name</th>\n",
       "      <th>Phone No.</th>\n",
       "      <th>Loan Amount</th>\n",
       "      <th>Principal Bal.</th>\n",
       "      <th>Customer Account Bal.</th>\n",
       "      <th>Disbursement Date</th>\n",
       "      <th>Maturation Date</th>\n",
       "      <th>Product</th>\n",
       "      <th>Linked Account No.</th>\n",
       "      <th>...</th>\n",
       "      <th>Loan Arrears</th>\n",
       "      <th>Status</th>\n",
       "      <th>Days OverDue</th>\n",
       "      <th>Account No.</th>\n",
       "      <th>Expected Payment Amount</th>\n",
       "      <th>Expected Due Date</th>\n",
       "      <th>NUBAN</th>\n",
       "      <th>Lodgments month -Date</th>\n",
       "      <th>Loan Collection Amount</th>\n",
       "      <th>Savings Amount</th>\n",
       "    </tr>\n",
       "  </thead>\n",
       "  <tbody>\n",
       "    <tr>\n",
       "      <td>0</td>\n",
       "      <td>1</td>\n",
       "      <td>EHINMOSAN, OMODARA STEPHEN</td>\n",
       "      <td>8.131984e+09</td>\n",
       "      <td>50000</td>\n",
       "      <td>50000.0</td>\n",
       "      <td>3478.21</td>\n",
       "      <td>05-Aug-2020</td>\n",
       "      <td>24-Sep-2020</td>\n",
       "      <td>LOAN- DOMESTIC PAY DAY (STAFF)</td>\n",
       "      <td>4230011200001035</td>\n",
       "      <td>...</td>\n",
       "      <td>0.0</td>\n",
       "      <td>Performing</td>\n",
       "      <td>0</td>\n",
       "      <td>4230014201001035</td>\n",
       "      <td>51500.0</td>\n",
       "      <td>24-Sep-2020</td>\n",
       "      <td>1.100010e+09</td>\n",
       "      <td>0.0</td>\n",
       "      <td></td>\n",
       "      <td></td>\n",
       "    </tr>\n",
       "    <tr>\n",
       "      <td>1</td>\n",
       "      <td>2</td>\n",
       "      <td>GAFAR, SIKIRU ALAO</td>\n",
       "      <td>7.025270e+09</td>\n",
       "      <td>1077883</td>\n",
       "      <td>1171583.0</td>\n",
       "      <td>60646.57</td>\n",
       "      <td>05-Aug-2020</td>\n",
       "      <td>15-Jun-2021</td>\n",
       "      <td>LOAN- HIRE PURCHASE</td>\n",
       "      <td>4230011100005288</td>\n",
       "      <td>...</td>\n",
       "      <td>0.0</td>\n",
       "      <td>Performing</td>\n",
       "      <td>0</td>\n",
       "      <td>4230014400005288</td>\n",
       "      <td>117158.3</td>\n",
       "      <td>18-Sep-2020</td>\n",
       "      <td>NaN</td>\n",
       "      <td>NaN</td>\n",
       "      <td></td>\n",
       "      <td></td>\n",
       "    </tr>\n",
       "    <tr>\n",
       "      <td>2</td>\n",
       "      <td>3</td>\n",
       "      <td>AROGBONLO, DEBORAH OMOTAYO</td>\n",
       "      <td>8.033242e+09</td>\n",
       "      <td>2000000</td>\n",
       "      <td>2000000.0</td>\n",
       "      <td>946.57</td>\n",
       "      <td>05-Aug-2020</td>\n",
       "      <td>23-Jun-2021</td>\n",
       "      <td>LOAN- DOMESTIC PAY DAY (STAFF)</td>\n",
       "      <td>4230011100004604</td>\n",
       "      <td>...</td>\n",
       "      <td>0.0</td>\n",
       "      <td>Performing</td>\n",
       "      <td>0</td>\n",
       "      <td>4230014200004604</td>\n",
       "      <td>260000.0</td>\n",
       "      <td>26-Sep-2020</td>\n",
       "      <td>NaN</td>\n",
       "      <td>NaN</td>\n",
       "      <td></td>\n",
       "      <td></td>\n",
       "    </tr>\n",
       "  </tbody>\n",
       "</table>\n",
       "<p>3 rows × 23 columns</p>\n",
       "</div>"
      ],
      "text/plain": [
       "   S/N.               Customer Name     Phone No.  Loan Amount  \\\n",
       "0     1  EHINMOSAN, OMODARA STEPHEN  8.131984e+09        50000   \n",
       "1     2          GAFAR, SIKIRU ALAO  7.025270e+09      1077883   \n",
       "2     3  AROGBONLO, DEBORAH OMOTAYO  8.033242e+09      2000000   \n",
       "\n",
       "   Principal Bal.  Customer Account Bal. Disbursement Date Maturation Date  \\\n",
       "0         50000.0                3478.21       05-Aug-2020     24-Sep-2020   \n",
       "1       1171583.0               60646.57       05-Aug-2020     15-Jun-2021   \n",
       "2       2000000.0                 946.57       05-Aug-2020     23-Jun-2021   \n",
       "\n",
       "                          Product  Linked Account No.  ... Loan Arrears  \\\n",
       "0  LOAN- DOMESTIC PAY DAY (STAFF)    4230011200001035  ...          0.0   \n",
       "1             LOAN- HIRE PURCHASE    4230011100005288  ...          0.0   \n",
       "2  LOAN- DOMESTIC PAY DAY (STAFF)    4230011100004604  ...          0.0   \n",
       "\n",
       "       Status  Days OverDue       Account No. Expected Payment Amount  \\\n",
       "0  Performing             0  4230014201001035                 51500.0   \n",
       "1  Performing             0  4230014400005288                117158.3   \n",
       "2  Performing             0  4230014200004604                260000.0   \n",
       "\n",
       "   Expected Due Date         NUBAN  Lodgments month -Date  \\\n",
       "0        24-Sep-2020  1.100010e+09                    0.0   \n",
       "1        18-Sep-2020           NaN                    NaN   \n",
       "2        26-Sep-2020           NaN                    NaN   \n",
       "\n",
       "  Loan Collection Amount  Savings Amount  \n",
       "0                                         \n",
       "1                                         \n",
       "2                                         \n",
       "\n",
       "[3 rows x 23 columns]"
      ]
     },
     "execution_count": 368,
     "metadata": {},
     "output_type": "execute_result"
    }
   ],
   "source": [
    "#display first three rows\n",
    "new_portfolio.head(3)"
   ]
  },
  {
   "cell_type": "code",
   "execution_count": 369,
   "metadata": {},
   "outputs": [],
   "source": [
    "# sort the Dataframe by Credit Officer column\n",
    "new_portfolio.sort_values('Credit Officer', inplace = True)"
   ]
  },
  {
   "cell_type": "code",
   "execution_count": 370,
   "metadata": {},
   "outputs": [],
   "source": [
    "#delete linked account no column\n",
    "new_portfolio = new_portfolio.drop(['Linked Account No.'], axis =1)"
   ]
  },
  {
   "cell_type": "code",
   "execution_count": 371,
   "metadata": {},
   "outputs": [],
   "source": [
    "#insert a new column NUBAN1 at index 1\n",
    "column_data = ''\n",
    "new_portfolio.insert(1,'NUBAN1',column_data)"
   ]
  },
  {
   "cell_type": "code",
   "execution_count": 372,
   "metadata": {},
   "outputs": [],
   "source": [
    "#Assign the values in NUBAN column to NUBAN1 column\n",
    "new_portfolio['NUBAN1'] = new_portfolio['NUBAN']"
   ]
  },
  {
   "cell_type": "code",
   "execution_count": 373,
   "metadata": {},
   "outputs": [],
   "source": [
    "#delete NUBAN column\n",
    "new_portfolio = new_portfolio.drop(['NUBAN'], axis =1)"
   ]
  },
  {
   "cell_type": "code",
   "execution_count": 374,
   "metadata": {},
   "outputs": [],
   "source": [
    "#delete account no column\n",
    "new_portfolio = new_portfolio.drop(['Account No.'], axis =1)"
   ]
  },
  {
   "cell_type": "code",
   "execution_count": 375,
   "metadata": {},
   "outputs": [],
   "source": [
    "# Rename column NUBAN1 to NUBAN\n",
    "new_portfolio.rename(columns={'NUBAN1':'NUBAN'}, inplace = True)"
   ]
  },
  {
   "cell_type": "code",
   "execution_count": 376,
   "metadata": {},
   "outputs": [
    {
     "data": {
      "text/plain": [
       "681    09021791435\n",
       "203    08135615452\n",
       "177    08137003502\n",
       "129    08035736095\n",
       "270    08028502571\n",
       "Name: Phone No., dtype: object"
      ]
     },
     "execution_count": 376,
     "metadata": {},
     "output_type": "execute_result"
    }
   ],
   "source": [
    "#add leading zero in phone number columns\n",
    "\n",
    "new_portfolio['Phone No.'] = new_portfolio['Phone No.'].astype(str).replace('\\.0','',regex = True)\n",
    "new_portfolio['Phone No.']= \"0\" + new_portfolio['Phone No.']\n",
    "\n",
    "new_portfolio['Phone No.'].head()\n"
   ]
  },
  {
   "cell_type": "code",
   "execution_count": 377,
   "metadata": {},
   "outputs": [],
   "source": [
    "# replace missing values with appropriate values\n",
    "new_portfolio['NUBAN'] = new_portfolio['NUBAN'].fillna('#N/A')\n",
    "new_portfolio['Expected Payment Amount'] = new_portfolio['Expected Payment Amount'].fillna('#N/A')\n",
    "new_portfolio['Expected Due Date'] = new_portfolio['Expected Due Date'].fillna('#N/A')\n",
    "new_portfolio['Lodgments month -Date'] = new_portfolio['Lodgments month -Date'].fillna('#N/A')\n"
   ]
  },
  {
   "cell_type": "code",
   "execution_count": 378,
   "metadata": {},
   "outputs": [],
   "source": [
    "# create openpyxl workbook and convert the new_portfolio to excel sheet\n",
    "workbook = Workbook()\n",
    "sheet_All_Loan = workbook.active\n",
    "\n",
    "for row in dataframe_to_rows(new_portfolio,index = False, header = True):\n",
    "    sheet_All_Loan.append(row)"
   ]
  },
  {
   "cell_type": "code",
   "execution_count": 379,
   "metadata": {},
   "outputs": [],
   "source": [
    "# create a list of account officers to filter out\n",
    "account_officer = {1:'ADNAN, ALIMAT  IYABO',2:'AMBALI , KANYINSOLA KAFAYAT',3:'AWOGBADE, ELIZABETH ADESOLA',4:'AWOSOPE, OLUWASEUN',5:'LATEEF, MOJEED OLANREWAJU',6:'OBILAGWU , MARYANN NKECHI',\n",
    "                  7:'OLABISI, BUKOLA',8:'PETU, TEMITAYO  GBEMISOLA',9:'EGUNDUPE, ADENIKE OLUWATOSIN',10:'YAYA, ONOME',11:'AMADI, JOY CHIMDI',12:'LAWAL, ABIODUN SURAT'}"
   ]
  },
  {
   "cell_type": "code",
   "execution_count": 380,
   "metadata": {},
   "outputs": [],
   "source": [
    "# Create a Function to filter out account officers cbal and add them to excel workbook\n",
    "def create_Cabal(officer):\n",
    "    cabal = new_portfolio[new_portfolio['Credit Officer'].str.contains(account_officer[officer])].copy()\n",
    "    new_sheet = workbook.create_sheet()\n",
    "    for row in dataframe_to_rows(cabal, index = False, header = True):\n",
    "         new_sheet.append(row)\n",
    "        "
   ]
  },
  {
   "cell_type": "code",
   "execution_count": 381,
   "metadata": {},
   "outputs": [],
   "source": [
    "for officer in account_officer:\n",
    "    create_Cabal(officer)\n",
    "#create_cabal()\n",
    "workbook.save('C:/Users/STELLAS MFB IT/Desktop/Acct.OfficerCollection/Raw files/sample/opn_excel.xlsx')\n"
   ]
  },
  {
   "cell_type": "code",
   "execution_count": null,
   "metadata": {},
   "outputs": [],
   "source": []
  },
  {
   "cell_type": "code",
   "execution_count": null,
   "metadata": {},
   "outputs": [],
   "source": []
  }
 ],
 "metadata": {
  "kernelspec": {
   "display_name": "Python 3",
   "language": "python",
   "name": "python3"
  },
  "language_info": {
   "codemirror_mode": {
    "name": "ipython",
    "version": 3
   },
   "file_extension": ".py",
   "mimetype": "text/x-python",
   "name": "python",
   "nbconvert_exporter": "python",
   "pygments_lexer": "ipython3",
   "version": "3.7.4"
  }
 },
 "nbformat": 4,
 "nbformat_minor": 2
}
