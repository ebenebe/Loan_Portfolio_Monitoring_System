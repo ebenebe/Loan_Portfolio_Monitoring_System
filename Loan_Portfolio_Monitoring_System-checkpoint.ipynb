{
 "cells": [
  {
   "cell_type": "code",
   "execution_count": 106,
   "metadata": {},
   "outputs": [],
   "source": [
    "import pandas as pd\n",
    "import numpy as np\n",
    "from openpyxl import Workbook\n",
    "from openpyxl.utils.dataframe import dataframe_to_rows"
   ]
  },
  {
   "cell_type": "code",
   "execution_count": 107,
   "metadata": {},
   "outputs": [],
   "source": [
    "# Import the three excel files to Dataframe\n",
    "portfolio = pd.read_excel('C:/Users/STELLAS MFB IT/Desktop/Acct.OfficerCollection/Raw files/sample/Portfolio_At_Risk_Report-6.xlsx')\n",
    "expected = pd.read_excel('C:/Users/STELLAS MFB IT/Desktop/Acct.OfficerCollection/Raw files/sample/Expected_Report-5.xlsx')\n",
    "monitoring = pd.read_excel('C:/Users/STELLAS MFB IT/Desktop/Acct.OfficerCollection/Raw files/sample/Savings_Deposit_Monitoring_Report-5.xlsx')\n",
    "#portfolio = pd.read_excel('C:/Users/STELLAS MFB IT/Desktop/Acct.OfficerCollection/Raw files/Portfolio_At_Risk_Report-2.xlsx')\n",
    "#expected = pd.read_excel('C:/Users/STELLAS MFB IT/Desktop/Acct.OfficerCollection/Raw files/Expected_Report-2.xlsx')\n",
    "#monitoring = pd.read_excel('C:/Users/STELLAS MFB IT/Desktop/Acct.OfficerCollection/Raw files/Savings_Deposit_Monitoring_Report-2.xlsx')\n"
   ]
  },
  {
   "cell_type": "code",
   "execution_count": 108,
   "metadata": {},
   "outputs": [],
   "source": [
    "# workbook = Workbook()\n",
    "# sheet = workbook.active\n",
    "\n",
    "# sheet[\"A1\"] = \"hello\"\n",
    "# sheet[\"B1\"] = \"world!\"\n",
    "\n",
    "# workbook.save(filename=\"hello_world.xlsx\")"
   ]
  },
  {
   "cell_type": "code",
   "execution_count": 109,
   "metadata": {},
   "outputs": [
    {
     "data": {
      "text/html": [
       "<div>\n",
       "<style scoped>\n",
       "    .dataframe tbody tr th:only-of-type {\n",
       "        vertical-align: middle;\n",
       "    }\n",
       "\n",
       "    .dataframe tbody tr th {\n",
       "        vertical-align: top;\n",
       "    }\n",
       "\n",
       "    .dataframe thead th {\n",
       "        text-align: right;\n",
       "    }\n",
       "</style>\n",
       "<table border=\"1\" class=\"dataframe\">\n",
       "  <thead>\n",
       "    <tr style=\"text-align: right;\">\n",
       "      <th></th>\n",
       "      <th>Account No.</th>\n",
       "      <th>Payment Amount</th>\n",
       "      <th>Due Date</th>\n",
       "    </tr>\n",
       "  </thead>\n",
       "  <tbody>\n",
       "    <tr>\n",
       "      <td>0</td>\n",
       "      <td>4230014100000832</td>\n",
       "      <td>5260.0</td>\n",
       "      <td>19-Jul-2020</td>\n",
       "    </tr>\n",
       "    <tr>\n",
       "      <td>1</td>\n",
       "      <td>4230014100000043</td>\n",
       "      <td>38750.0</td>\n",
       "      <td>19-Jul-2020</td>\n",
       "    </tr>\n",
       "  </tbody>\n",
       "</table>\n",
       "</div>"
      ],
      "text/plain": [
       "        Account No.  Payment Amount     Due Date\n",
       "0  4230014100000832          5260.0  19-Jul-2020\n",
       "1  4230014100000043         38750.0  19-Jul-2020"
      ]
     },
     "execution_count": 109,
     "metadata": {},
     "output_type": "execute_result"
    }
   ],
   "source": [
    "# Select the two colums to merge from expected Dataframe\n",
    "#expected_1 = expected[['Linked Account No.','Payment Amount','Due Date']]\n",
    "expected_1 = expected[['Account No.','Payment Amount','Due Date']]\n",
    "#Print two rows of the result\n",
    "expected_1.head(2)"
   ]
  },
  {
   "cell_type": "code",
   "execution_count": 110,
   "metadata": {},
   "outputs": [],
   "source": [
    "# merge the expected_1 Dataframe to Portfolio Dataframe and assign them to New_portfolio\n",
    "new_portfolio = pd.merge(left = portfolio, right = expected_1,how ='left', on ='Account No.')\n",
    "\n",
    "#new_portfolio.to_excel('C:/Users/STELLAS MFB IT/Desktop/Acct.OfficerCollection/Raw files/sample/opn_excel3.xlsx')"
   ]
  },
  {
   "cell_type": "code",
   "execution_count": 111,
   "metadata": {},
   "outputs": [],
   "source": [
    "# Select the two colums to merge from monitoring Dataframe and change column 'Account No.' to 'Linked Account No'\n",
    "monitoring.rename(columns={'Account No.':'Linked Account No.'}, inplace = True)\n",
    "monitoring_1 = monitoring[['Linked Account No.','NUBAN','Lodgements']]\n"
   ]
  },
  {
   "cell_type": "code",
   "execution_count": 112,
   "metadata": {},
   "outputs": [],
   "source": [
    "#merge the  selected column in  monitoring_1 to new_portfolio\n",
    "new_portfolio = pd.merge(left = new_portfolio, right = monitoring_1,how = 'left',  on ='Linked Account No.')"
   ]
  },
  {
   "cell_type": "code",
   "execution_count": 113,
   "metadata": {},
   "outputs": [
    {
     "data": {
      "text/html": [
       "<div>\n",
       "<style scoped>\n",
       "    .dataframe tbody tr th:only-of-type {\n",
       "        vertical-align: middle;\n",
       "    }\n",
       "\n",
       "    .dataframe tbody tr th {\n",
       "        vertical-align: top;\n",
       "    }\n",
       "\n",
       "    .dataframe thead th {\n",
       "        text-align: right;\n",
       "    }\n",
       "</style>\n",
       "<table border=\"1\" class=\"dataframe\">\n",
       "  <thead>\n",
       "    <tr style=\"text-align: right;\">\n",
       "      <th></th>\n",
       "      <th>S/N.</th>\n",
       "      <th>Account No.</th>\n",
       "      <th>Credit Officer</th>\n",
       "      <th>Customer Name</th>\n",
       "      <th>Disbursement Date</th>\n",
       "      <th>Maturation Date</th>\n",
       "      <th>Product</th>\n",
       "      <th>Linked Account No.</th>\n",
       "      <th>Customer Account Bal.</th>\n",
       "      <th>Loan Amount</th>\n",
       "      <th>...</th>\n",
       "      <th>Total Outst. Prin.</th>\n",
       "      <th>Past Due Prin.</th>\n",
       "      <th>Loan Arrears</th>\n",
       "      <th>Days OverDue</th>\n",
       "      <th>Status</th>\n",
       "      <th>Phone No.</th>\n",
       "      <th>Payment Amount</th>\n",
       "      <th>Due Date</th>\n",
       "      <th>NUBAN</th>\n",
       "      <th>Lodgements</th>\n",
       "    </tr>\n",
       "  </thead>\n",
       "  <tbody>\n",
       "    <tr>\n",
       "      <td>0</td>\n",
       "      <td>1</td>\n",
       "      <td>4230014400005277</td>\n",
       "      <td>EGUNDUPE, ADENIKE OLUWATOSIN</td>\n",
       "      <td>ALHASSAN, FRIDAY PAUL</td>\n",
       "      <td>14-Jul-2020</td>\n",
       "      <td>24-May-2021</td>\n",
       "      <td>LOAN- HIRE PURCHASE</td>\n",
       "      <td>4230011100005277</td>\n",
       "      <td>31000.00</td>\n",
       "      <td>563200</td>\n",
       "      <td>...</td>\n",
       "      <td>563200.0</td>\n",
       "      <td>0.0</td>\n",
       "      <td>0.0</td>\n",
       "      <td>0</td>\n",
       "      <td>Performing</td>\n",
       "      <td>7.064874e+09</td>\n",
       "      <td>NaN</td>\n",
       "      <td>NaN</td>\n",
       "      <td>1.100053e+09</td>\n",
       "      <td>31000.0</td>\n",
       "    </tr>\n",
       "    <tr>\n",
       "      <td>1</td>\n",
       "      <td>2</td>\n",
       "      <td>4230014400005239</td>\n",
       "      <td>ADNAN, ALIMAT  IYABO</td>\n",
       "      <td>AJAYI, ADEREMI SOLOMON</td>\n",
       "      <td>13-Jul-2020</td>\n",
       "      <td>23-May-2021</td>\n",
       "      <td>LOAN- HIRE PURCHASE</td>\n",
       "      <td>4230011100005239</td>\n",
       "      <td>28493.20</td>\n",
       "      <td>523250</td>\n",
       "      <td>...</td>\n",
       "      <td>523250.0</td>\n",
       "      <td>0.0</td>\n",
       "      <td>0.0</td>\n",
       "      <td>0</td>\n",
       "      <td>Performing</td>\n",
       "      <td>8.036940e+09</td>\n",
       "      <td>NaN</td>\n",
       "      <td>NaN</td>\n",
       "      <td>NaN</td>\n",
       "      <td>NaN</td>\n",
       "    </tr>\n",
       "    <tr>\n",
       "      <td>2</td>\n",
       "      <td>3</td>\n",
       "      <td>4230014900004504</td>\n",
       "      <td>AWOSOPE, OLUWASEUN</td>\n",
       "      <td>ABORISADE , OLADIMEJI EMMA</td>\n",
       "      <td>13-Jul-2020</td>\n",
       "      <td>09-Jan-2021</td>\n",
       "      <td>WAIST BAND LOAN</td>\n",
       "      <td>4230011600004504</td>\n",
       "      <td>43255.51</td>\n",
       "      <td>92000</td>\n",
       "      <td>...</td>\n",
       "      <td>92000.0</td>\n",
       "      <td>0.0</td>\n",
       "      <td>0.0</td>\n",
       "      <td>0</td>\n",
       "      <td>Performing</td>\n",
       "      <td>8.092853e+09</td>\n",
       "      <td>4436.39</td>\n",
       "      <td>20-Jul-2020</td>\n",
       "      <td>1.100045e+09</td>\n",
       "      <td>0.0</td>\n",
       "    </tr>\n",
       "  </tbody>\n",
       "</table>\n",
       "<p>3 rows × 21 columns</p>\n",
       "</div>"
      ],
      "text/plain": [
       "   S/N.       Account No.                Credit Officer  \\\n",
       "0     1  4230014400005277  EGUNDUPE, ADENIKE OLUWATOSIN   \n",
       "1     2  4230014400005239          ADNAN, ALIMAT  IYABO   \n",
       "2     3  4230014900004504            AWOSOPE, OLUWASEUN   \n",
       "\n",
       "                Customer Name Disbursement Date Maturation Date  \\\n",
       "0       ALHASSAN, FRIDAY PAUL       14-Jul-2020     24-May-2021   \n",
       "1      AJAYI, ADEREMI SOLOMON       13-Jul-2020     23-May-2021   \n",
       "2  ABORISADE , OLADIMEJI EMMA       13-Jul-2020     09-Jan-2021   \n",
       "\n",
       "               Product  Linked Account No.  Customer Account Bal.  \\\n",
       "0  LOAN- HIRE PURCHASE    4230011100005277               31000.00   \n",
       "1  LOAN- HIRE PURCHASE    4230011100005239               28493.20   \n",
       "2      WAIST BAND LOAN    4230011600004504               43255.51   \n",
       "\n",
       "   Loan Amount  ...  Total Outst. Prin.  Past Due Prin.  Loan Arrears  \\\n",
       "0       563200  ...            563200.0             0.0           0.0   \n",
       "1       523250  ...            523250.0             0.0           0.0   \n",
       "2        92000  ...             92000.0             0.0           0.0   \n",
       "\n",
       "   Days OverDue      Status     Phone No.  Payment Amount     Due Date  \\\n",
       "0             0  Performing  7.064874e+09             NaN          NaN   \n",
       "1             0  Performing  8.036940e+09             NaN          NaN   \n",
       "2             0  Performing  8.092853e+09         4436.39  20-Jul-2020   \n",
       "\n",
       "          NUBAN  Lodgements  \n",
       "0  1.100053e+09     31000.0  \n",
       "1           NaN         NaN  \n",
       "2  1.100045e+09         0.0  \n",
       "\n",
       "[3 rows x 21 columns]"
      ]
     },
     "execution_count": 113,
     "metadata": {},
     "output_type": "execute_result"
    }
   ],
   "source": [
    "#display first three rows\n",
    "new_portfolio.head(3)"
   ]
  },
  {
   "cell_type": "code",
   "execution_count": 114,
   "metadata": {},
   "outputs": [],
   "source": [
    "# Rename some of the columns\n",
    "new_portfolio.rename(columns={'Payment Amount':'Expected Payment Amount'}, inplace = True)\n",
    "new_portfolio.rename(columns={'Due Date':'Expected Due Date'}, inplace = True)\n",
    "new_portfolio.rename(columns={'Lodgements':'Lodgments month -Date'}, inplace = True)\n",
    "\n",
    "\n",
    "\n"
   ]
  },
  {
   "cell_type": "code",
   "execution_count": 115,
   "metadata": {},
   "outputs": [],
   "source": [
    "# Add to new empty colums\n",
    "new_portfolio['Loan Collection Amount'] = \" \"\n",
    "new_portfolio['Savings Amount'] = \" \""
   ]
  },
  {
   "cell_type": "code",
   "execution_count": 116,
   "metadata": {},
   "outputs": [
    {
     "data": {
      "text/html": [
       "<div>\n",
       "<style scoped>\n",
       "    .dataframe tbody tr th:only-of-type {\n",
       "        vertical-align: middle;\n",
       "    }\n",
       "\n",
       "    .dataframe tbody tr th {\n",
       "        vertical-align: top;\n",
       "    }\n",
       "\n",
       "    .dataframe thead th {\n",
       "        text-align: right;\n",
       "    }\n",
       "</style>\n",
       "<table border=\"1\" class=\"dataframe\">\n",
       "  <thead>\n",
       "    <tr style=\"text-align: right;\">\n",
       "      <th></th>\n",
       "      <th>S/N.</th>\n",
       "      <th>Account No.</th>\n",
       "      <th>Credit Officer</th>\n",
       "      <th>Customer Name</th>\n",
       "      <th>Disbursement Date</th>\n",
       "      <th>Maturation Date</th>\n",
       "      <th>Product</th>\n",
       "      <th>Linked Account No.</th>\n",
       "      <th>Customer Account Bal.</th>\n",
       "      <th>Loan Amount</th>\n",
       "      <th>...</th>\n",
       "      <th>Loan Arrears</th>\n",
       "      <th>Days OverDue</th>\n",
       "      <th>Status</th>\n",
       "      <th>Phone No.</th>\n",
       "      <th>Expected Payment Amount</th>\n",
       "      <th>Expected Due Date</th>\n",
       "      <th>NUBAN</th>\n",
       "      <th>Lodgments month -Date</th>\n",
       "      <th>Loan Collection Amount</th>\n",
       "      <th>Savings Amount</th>\n",
       "    </tr>\n",
       "  </thead>\n",
       "  <tbody>\n",
       "    <tr>\n",
       "      <td>0</td>\n",
       "      <td>1</td>\n",
       "      <td>4230014400005277</td>\n",
       "      <td>EGUNDUPE, ADENIKE OLUWATOSIN</td>\n",
       "      <td>ALHASSAN, FRIDAY PAUL</td>\n",
       "      <td>14-Jul-2020</td>\n",
       "      <td>24-May-2021</td>\n",
       "      <td>LOAN- HIRE PURCHASE</td>\n",
       "      <td>4230011100005277</td>\n",
       "      <td>31000.00</td>\n",
       "      <td>563200</td>\n",
       "      <td>...</td>\n",
       "      <td>0.0</td>\n",
       "      <td>0</td>\n",
       "      <td>Performing</td>\n",
       "      <td>7.064874e+09</td>\n",
       "      <td>NaN</td>\n",
       "      <td>NaN</td>\n",
       "      <td>1.100053e+09</td>\n",
       "      <td>31000.0</td>\n",
       "      <td></td>\n",
       "      <td></td>\n",
       "    </tr>\n",
       "    <tr>\n",
       "      <td>1</td>\n",
       "      <td>2</td>\n",
       "      <td>4230014400005239</td>\n",
       "      <td>ADNAN, ALIMAT  IYABO</td>\n",
       "      <td>AJAYI, ADEREMI SOLOMON</td>\n",
       "      <td>13-Jul-2020</td>\n",
       "      <td>23-May-2021</td>\n",
       "      <td>LOAN- HIRE PURCHASE</td>\n",
       "      <td>4230011100005239</td>\n",
       "      <td>28493.20</td>\n",
       "      <td>523250</td>\n",
       "      <td>...</td>\n",
       "      <td>0.0</td>\n",
       "      <td>0</td>\n",
       "      <td>Performing</td>\n",
       "      <td>8.036940e+09</td>\n",
       "      <td>NaN</td>\n",
       "      <td>NaN</td>\n",
       "      <td>NaN</td>\n",
       "      <td>NaN</td>\n",
       "      <td></td>\n",
       "      <td></td>\n",
       "    </tr>\n",
       "    <tr>\n",
       "      <td>2</td>\n",
       "      <td>3</td>\n",
       "      <td>4230014900004504</td>\n",
       "      <td>AWOSOPE, OLUWASEUN</td>\n",
       "      <td>ABORISADE , OLADIMEJI EMMA</td>\n",
       "      <td>13-Jul-2020</td>\n",
       "      <td>09-Jan-2021</td>\n",
       "      <td>WAIST BAND LOAN</td>\n",
       "      <td>4230011600004504</td>\n",
       "      <td>43255.51</td>\n",
       "      <td>92000</td>\n",
       "      <td>...</td>\n",
       "      <td>0.0</td>\n",
       "      <td>0</td>\n",
       "      <td>Performing</td>\n",
       "      <td>8.092853e+09</td>\n",
       "      <td>4436.39</td>\n",
       "      <td>20-Jul-2020</td>\n",
       "      <td>1.100045e+09</td>\n",
       "      <td>0.0</td>\n",
       "      <td></td>\n",
       "      <td></td>\n",
       "    </tr>\n",
       "  </tbody>\n",
       "</table>\n",
       "<p>3 rows × 23 columns</p>\n",
       "</div>"
      ],
      "text/plain": [
       "   S/N.       Account No.                Credit Officer  \\\n",
       "0     1  4230014400005277  EGUNDUPE, ADENIKE OLUWATOSIN   \n",
       "1     2  4230014400005239          ADNAN, ALIMAT  IYABO   \n",
       "2     3  4230014900004504            AWOSOPE, OLUWASEUN   \n",
       "\n",
       "                Customer Name Disbursement Date Maturation Date  \\\n",
       "0       ALHASSAN, FRIDAY PAUL       14-Jul-2020     24-May-2021   \n",
       "1      AJAYI, ADEREMI SOLOMON       13-Jul-2020     23-May-2021   \n",
       "2  ABORISADE , OLADIMEJI EMMA       13-Jul-2020     09-Jan-2021   \n",
       "\n",
       "               Product  Linked Account No.  Customer Account Bal.  \\\n",
       "0  LOAN- HIRE PURCHASE    4230011100005277               31000.00   \n",
       "1  LOAN- HIRE PURCHASE    4230011100005239               28493.20   \n",
       "2      WAIST BAND LOAN    4230011600004504               43255.51   \n",
       "\n",
       "   Loan Amount  ...  Loan Arrears  Days OverDue      Status     Phone No.  \\\n",
       "0       563200  ...           0.0             0  Performing  7.064874e+09   \n",
       "1       523250  ...           0.0             0  Performing  8.036940e+09   \n",
       "2        92000  ...           0.0             0  Performing  8.092853e+09   \n",
       "\n",
       "   Expected Payment Amount Expected Due Date         NUBAN  \\\n",
       "0                      NaN               NaN  1.100053e+09   \n",
       "1                      NaN               NaN           NaN   \n",
       "2                  4436.39       20-Jul-2020  1.100045e+09   \n",
       "\n",
       "   Lodgments month -Date Loan Collection Amount  Savings Amount  \n",
       "0                31000.0                                         \n",
       "1                    NaN                                         \n",
       "2                    0.0                                         \n",
       "\n",
       "[3 rows x 23 columns]"
      ]
     },
     "execution_count": 116,
     "metadata": {},
     "output_type": "execute_result"
    }
   ],
   "source": [
    "#display first three rows\n",
    "new_portfolio.head(3)"
   ]
  },
  {
   "cell_type": "code",
   "execution_count": 117,
   "metadata": {},
   "outputs": [],
   "source": [
    "# sort the Dataframe by Credit Officer column\n",
    "new_portfolio.sort_values('Credit Officer', inplace = True)"
   ]
  },
  {
   "cell_type": "code",
   "execution_count": 118,
   "metadata": {},
   "outputs": [],
   "source": [
    "#delete linked account no column\n",
    "new_portfolio = new_portfolio.drop(['Linked Account No.'], axis =1)"
   ]
  },
  {
   "cell_type": "code",
   "execution_count": 119,
   "metadata": {},
   "outputs": [],
   "source": [
    "#insert a new column NUBAN1 at index 1\n",
    "column_data = ''\n",
    "new_portfolio.insert(1,'NUBAN1',column_data)"
   ]
  },
  {
   "cell_type": "code",
   "execution_count": 120,
   "metadata": {},
   "outputs": [],
   "source": [
    "#Assign the values in NUBAN column to NUBAN1 column\n",
    "new_portfolio['NUBAN1'] = new_portfolio['NUBAN']"
   ]
  },
  {
   "cell_type": "code",
   "execution_count": 121,
   "metadata": {},
   "outputs": [],
   "source": [
    "#delete NUBAN column\n",
    "new_portfolio = new_portfolio.drop(['NUBAN'], axis =1)"
   ]
  },
  {
   "cell_type": "code",
   "execution_count": 122,
   "metadata": {},
   "outputs": [],
   "source": [
    "# Rename column NUBAN1 to NUBAN\n",
    "new_portfolio.rename(columns={'NUBAN1':'NUBAN'}, inplace = True)"
   ]
  },
  {
   "cell_type": "code",
   "execution_count": 123,
   "metadata": {},
   "outputs": [],
   "source": [
    "# replace missing values with appropriate values\n",
    "new_portfolio['NUBAN'] = new_portfolio['NUBAN'].fillna('#N/A')\n",
    "new_portfolio['Expected Payment Amount'] = new_portfolio['Expected Payment Amount'].fillna('#N/A')\n",
    "new_portfolio['Expected Due Date'] = new_portfolio['Expected Due Date'].fillna('#N/A')\n",
    "new_portfolio['Lodgments month -Date'] = new_portfolio['Lodgments month -Date'].fillna('#N/A')\n"
   ]
  },
  {
   "cell_type": "code",
   "execution_count": 124,
   "metadata": {},
   "outputs": [],
   "source": [
    "# create openpyxl workbook and convert the new_portfolio to excel sheet\n",
    "workbook = Workbook()\n",
    "sheet_All_Loan = workbook.active\n",
    "\n",
    "for row in dataframe_to_rows(new_portfolio,index = False, header = True):\n",
    "    sheet_All_Loan.append(row)"
   ]
  },
  {
   "cell_type": "code",
   "execution_count": 125,
   "metadata": {},
   "outputs": [],
   "source": [
    "# create a list of account officers to filter out\n",
    "account_officer = {1:'ADNAN, ALIMAT  IYABO',2:'AMBALI , KANYINSOLA KAFAYAT',3:'AWOGBADE, ELIZABETH ADESOLA',4:'AWOSOPE, OLUWASEUN',5:'LATEEF, MOJEED OLANREWAJU',6:'OBILAGWU , MARYANN NKECHI',\n",
    "                  7:'OLABISI, BUKOLA',8:'PETU, TEMITAYO  GBEMISOLA',9:'EGUNDUPE, ADENIKE OLUWATOSIN',10:'YAYA, ONOME',11:'AMADI, JOY CHIMDI',12:'LAWAL, ABIODUN SURAT'}"
   ]
  },
  {
   "cell_type": "code",
   "execution_count": 126,
   "metadata": {},
   "outputs": [],
   "source": [
    "# Create a Function to filter out account officers cbal and add them to excel workbook\n",
    "def create_Cabal(officer):\n",
    "    cabal = new_portfolio[new_portfolio['Credit Officer'].str.contains(account_officer[officer])].copy()\n",
    "    new_sheet = workbook.create_sheet()\n",
    "    for row in dataframe_to_rows(cabal, index = False, header = True):\n",
    "         new_sheet.append(row)\n",
    "        "
   ]
  },
  {
   "cell_type": "code",
   "execution_count": 127,
   "metadata": {},
   "outputs": [],
   "source": [
    "for officer in account_officer:\n",
    "    create_Cabal(officer)\n",
    "#create_cabal()\n",
    "workbook.save('C:/Users/STELLAS MFB IT/Desktop/Acct.OfficerCollection/Raw files/sample/opn_excel.xlsx')\n"
   ]
  },
  {
   "cell_type": "code",
   "execution_count": null,
   "metadata": {},
   "outputs": [],
   "source": []
  },
  {
   "cell_type": "code",
   "execution_count": null,
   "metadata": {},
   "outputs": [],
   "source": []
  }
 ],
 "metadata": {
  "kernelspec": {
   "display_name": "Python 3",
   "language": "python",
   "name": "python3"
  },
  "language_info": {
   "codemirror_mode": {
    "name": "ipython",
    "version": 3
   },
   "file_extension": ".py",
   "mimetype": "text/x-python",
   "name": "python",
   "nbconvert_exporter": "python",
   "pygments_lexer": "ipython3",
   "version": "3.7.4"
  }
 },
 "nbformat": 4,
 "nbformat_minor": 2
}
